{
 "cells": [
  {
   "cell_type": "code",
   "execution_count": 31,
   "metadata": {
    "collapsed": true
   },
   "outputs": [],
   "source": [
    "import numpy as np\n",
    "import pandas as pd\n",
    "import xgboost as xgb\n",
    "from sklearn.metrics import accuracy_score, average_precision_score, roc_auc_score"
   ]
  },
  {
   "cell_type": "code",
   "execution_count": 2,
   "outputs": [],
   "source": [
    "DATA_PATH = \"../data/DGraphFin/raw/dgraphfin.npz\""
   ],
   "metadata": {
    "collapsed": false
   }
  },
  {
   "cell_type": "code",
   "execution_count": 7,
   "outputs": [],
   "source": [
    "with np.load(DATA_PATH) as loader:\n",
    "    x_np = loader['x']\n",
    "    y_np = loader['y']\n",
    "    edge_index_np = loader['edge_index']\n",
    "    edge_timestamp_np = loader['edge_timestamp']\n",
    "    edge_type_np = loader['edge_type']\n",
    "    max_timestamp = np.max(edge_timestamp_np)"
   ],
   "metadata": {
    "collapsed": false
   }
  },
  {
   "cell_type": "code",
   "execution_count": 4,
   "outputs": [
    {
     "data": {
      "text/plain": "array([[ 476699, 2915516],\n       [ 347800, 1271242],\n       [ 154317, 2104635],\n       ...,\n       [1894383, 1147595],\n       [1895741, 1314434],\n       [1206795, 2072636]])"
     },
     "execution_count": 4,
     "metadata": {},
     "output_type": "execute_result"
    }
   ],
   "source": [
    "edge_index_np"
   ],
   "metadata": {
    "collapsed": false
   }
  },
  {
   "cell_type": "code",
   "execution_count": 32,
   "outputs": [],
   "source": [
    "def get_data_snapshot(start_time_index, end_time_index, x, y, edge_index, edge_timestamp):\n",
    "    mask = (edge_timestamp >= start_time_index) & (edge_timestamp < end_time_index)\n",
    "    selected_edges = edge_index[mask, :]\n",
    "    unique_nodes = np.unique(selected_edges)\n",
    "    df = pd.DataFrame({'node_id': unique_nodes})\n",
    "    df['x'] = list(x[unique_nodes])\n",
    "    df['y'] = y[unique_nodes]\n",
    "    df = df[df['y'].isin([0,1])]\n",
    "    return df"
   ],
   "metadata": {
    "collapsed": false
   }
  },
  {
   "cell_type": "code",
   "execution_count": 34,
   "outputs": [],
   "source": [
    "train_df = get_data_snapshot(1,2,x_np,y_np,edge_index_np,edge_timestamp_np)\n",
    "test_df = get_data_snapshot(2,3,x_np,y_np,edge_index_np,edge_timestamp_np)\n",
    "X_train = np.vstack(train_df['x'].values)\n",
    "y_train = train_df['y'].values\n",
    "X_test = np.vstack(test_df['x'].values)\n",
    "y_test = test_df['y'].values"
   ],
   "metadata": {
    "collapsed": false
   }
  },
  {
   "cell_type": "code",
   "execution_count": 36,
   "outputs": [
    {
     "data": {
      "text/plain": "array([[ 1.        ,  6.        ,  0.08      , ...,  0.33333333,\n         0.0625    ,  0.33333333],\n       [ 1.        ,  4.        ,  0.6       , ...,  0.6       ,\n         0.025     ,  0.6       ],\n       [ 0.        ,  3.        , -1.        , ..., -1.        ,\n        -1.        , -1.        ],\n       ...,\n       [-1.        , -1.        ,  0.975     , ...,  0.75      ,\n         0.01025641,  0.5       ],\n       [-1.        , -1.        ,  0.27      , ...,  1.        ,\n        -1.        , -1.        ],\n       [-1.        , -1.        , -1.        , ..., -1.        ,\n        -1.        , -1.        ]])"
     },
     "execution_count": 36,
     "metadata": {},
     "output_type": "execute_result"
    }
   ],
   "source": [
    "X_train"
   ],
   "metadata": {
    "collapsed": false
   }
  },
  {
   "cell_type": "code",
   "execution_count": 40,
   "outputs": [
    {
     "name": "stdout",
     "output_type": "stream",
     "text": [
      "====================\n",
      "index:1\n",
      "XGBoost Model Accuracy: 0.9765\n",
      "Average Precision Score: 0.0409\n",
      "AUC-ROC Score: 0.7075\n",
      "====================\n",
      "index:2\n",
      "XGBoost Model Accuracy: 0.9777\n",
      "Average Precision Score: 0.0438\n",
      "AUC-ROC Score: 0.7297\n",
      "====================\n",
      "index:3\n",
      "XGBoost Model Accuracy: 0.9810\n",
      "Average Precision Score: 0.0479\n",
      "AUC-ROC Score: 0.7351\n",
      "====================\n",
      "index:4\n",
      "XGBoost Model Accuracy: 0.9739\n",
      "Average Precision Score: 0.0435\n",
      "AUC-ROC Score: 0.6876\n",
      "====================\n",
      "index:5\n",
      "XGBoost Model Accuracy: 0.9756\n",
      "Average Precision Score: 0.0409\n",
      "AUC-ROC Score: 0.6882\n",
      "====================\n",
      "index:6\n",
      "XGBoost Model Accuracy: 0.9794\n",
      "Average Precision Score: 0.0389\n",
      "AUC-ROC Score: 0.7140\n",
      "====================\n",
      "index:7\n",
      "XGBoost Model Accuracy: 0.9759\n",
      "Average Precision Score: 0.0431\n",
      "AUC-ROC Score: 0.7005\n",
      "====================\n",
      "index:8\n",
      "XGBoost Model Accuracy: 0.9760\n",
      "Average Precision Score: 0.0346\n",
      "AUC-ROC Score: 0.6745\n",
      "====================\n",
      "index:9\n",
      "XGBoost Model Accuracy: 0.9715\n",
      "Average Precision Score: 0.0560\n",
      "AUC-ROC Score: 0.7169\n"
     ]
    }
   ],
   "source": [
    "for i in range(1,70,7):\n",
    "    print(\"=\"*20)\n",
    "    print(f\"index:{i}\")\n",
    "    train_df = get_data_snapshot(i,i+1,x_np,y_np,edge_index_np,edge_timestamp_np)\n",
    "    test_df = get_data_snapshot(i+1,i+2,x_np,y_np,edge_index_np,edge_timestamp_np)\n",
    "    test_nodes = set(test_df['node_id'])\n",
    "    train_df = train_df[~train_df['node_id'].isin(test_nodes)]\n",
    "    X_train = np.vstack(train_df['x'].values)\n",
    "    y_train = train_df['y'].values\n",
    "    X_test = np.vstack(test_df['x'].values)\n",
    "    y_test = test_df['y'].values\n",
    "    model = xgb.XGBClassifier(eval_metric='logloss')\n",
    "    model.fit(X_train,y_train)\n",
    "    y_pred = model.predict(X_test)\n",
    "    y_prob = model.predict_proba(X_test)[:,1]\n",
    "    accuracy = accuracy_score(y_test, y_pred)\n",
    "    avg_precision = average_precision_score(y_test, y_prob)\n",
    "    auc_roc = roc_auc_score(y_test, y_prob)\n",
    "\n",
    "    print(f'XGBoost Model Accuracy: {accuracy:.4f}')\n",
    "    print(f'Average Precision Score: {avg_precision:.4f}')\n",
    "    print(f'AUC-ROC Score: {auc_roc:.4f}')\n",
    "\n"
   ],
   "metadata": {
    "collapsed": false
   }
  },
  {
   "cell_type": "code",
   "execution_count": 30,
   "outputs": [],
   "source": [],
   "metadata": {
    "collapsed": false
   }
  },
  {
   "cell_type": "code",
   "execution_count": null,
   "outputs": [],
   "source": [],
   "metadata": {
    "collapsed": false
   }
  }
 ],
 "metadata": {
  "kernelspec": {
   "display_name": "Python 3",
   "language": "python",
   "name": "python3"
  },
  "language_info": {
   "codemirror_mode": {
    "name": "ipython",
    "version": 2
   },
   "file_extension": ".py",
   "mimetype": "text/x-python",
   "name": "python",
   "nbconvert_exporter": "python",
   "pygments_lexer": "ipython2",
   "version": "2.7.6"
  }
 },
 "nbformat": 4,
 "nbformat_minor": 0
}
